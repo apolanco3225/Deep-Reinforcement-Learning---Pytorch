{
 "cells": [
  {
   "cell_type": "code",
   "execution_count": 1,
   "metadata": {
    "collapsed": true
   },
   "outputs": [],
   "source": [
    "import gym\n",
    "env = gym.make('MountainCar-v0')"
   ]
  },
  {
   "cell_type": "code",
   "execution_count": 5,
   "metadata": {},
   "outputs": [
    {
     "name": "stdout",
     "output_type": "stream",
     "text": [
      "\n",
      " Episode #0 ended in 201 steps. total_reward=-200.0\n",
      "\n",
      " Episode #1 ended in 201 steps. total_reward=-200.0\n",
      "\n",
      " Episode #2 ended in 201 steps. total_reward=-200.0\n",
      "\n",
      " Episode #3 ended in 201 steps. total_reward=-200.0\n",
      "\n",
      " Episode #4 ended in 201 steps. total_reward=-200.0\n",
      "\n",
      " Episode #5 ended in 201 steps. total_reward=-200.0\n",
      "\n",
      " Episode #6 ended in 201 steps. total_reward=-200.0\n",
      "\n",
      " Episode #7 ended in 201 steps. total_reward=-200.0\n",
      "\n",
      " Episode #8 ended in 201 steps. total_reward=-200.0\n",
      "\n",
      " Episode #9 ended in 201 steps. total_reward=-200.0\n"
     ]
    }
   ],
   "source": [
    "max_num_episodes = 10\n",
    "\n",
    "for i in range(max_num_episodes):\n",
    "    done = False\n",
    "    obs = env.reset()\n",
    "    total_reward = 0.0\n",
    "    step = 0\n",
    "    while not done:\n",
    "        env.render()\n",
    "        action = env.action_space.sample()\n",
    "        next_state, reward, done, info = env.step(action)\n",
    "        \n",
    "        total_reward += reward\n",
    "        step += 1\n",
    "        obs = next_state\n",
    "        \n",
    "    print('\\n Episode #{} ended in {} steps. total_reward={}'.format(\n",
    "        i, step+1, total_reward))\n",
    "    env.close()"
   ]
  },
  {
   "cell_type": "code",
   "execution_count": 4,
   "metadata": {
    "collapsed": true
   },
   "outputs": [],
   "source": [
    "env.close()\n"
   ]
  },
  {
   "cell_type": "code",
   "execution_count": null,
   "metadata": {
    "collapsed": true
   },
   "outputs": [],
   "source": []
  }
 ],
 "metadata": {
  "kernelspec": {
   "display_name": "Python 3",
   "language": "python",
   "name": "python3"
  },
  "language_info": {
   "codemirror_mode": {
    "name": "ipython",
    "version": 3
   },
   "file_extension": ".py",
   "mimetype": "text/x-python",
   "name": "python",
   "nbconvert_exporter": "python",
   "pygments_lexer": "ipython3",
   "version": "3.6.8"
  }
 },
 "nbformat": 4,
 "nbformat_minor": 2
}
